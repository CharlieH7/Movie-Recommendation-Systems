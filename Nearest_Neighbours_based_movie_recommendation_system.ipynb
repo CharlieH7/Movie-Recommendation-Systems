{
  "nbformat": 4,
  "nbformat_minor": 0,
  "metadata": {
    "colab": {
      "provenance": []
    },
    "kernelspec": {
      "name": "python3",
      "display_name": "Python 3"
    },
    "language_info": {
      "name": "python"
    }
  },
  "cells": [
    {
      "cell_type": "code",
      "source": [
        "# Import TensorFlow and hub\n",
        "import tensorflow as tf\n",
        "import tensorflow_hub as hub\n",
        "\n",
        "# Plotting\n",
        "import matplotlib.pyplot as plt\n",
        "\n",
        "# some important packages\n",
        "import os\n",
        "import re\n",
        "import numpy as np\n",
        "import pandas as pd\n",
        "\n",
        "# scikit-learn\n",
        "from sklearn.metrics.pairwise import cosine_similarity\n",
        "from sklearn.neighbors import NearestNeighbors\n",
        "from sklearn.decomposition import PCA\n",
        "from sklearn.metrics import mean_squared_error, mean_absolute_error, precision_recall_fscore_support\n",
        "from sklearn.model_selection import train_test_split\n",
        "\n",
        "# get movielens dataset\n",
        "!curl https://files.grouplens.org/datasets/movielens/ml-latest-small.zip -o ml-latest-small.zip\n",
        "\n",
        "# extract zip file\n",
        "import zipfile\n",
        "with zipfile.ZipFile(\"ml-latest-small.zip\", 'r') as zip_ref:\n",
        "    zip_ref.extractall('data')\n",
        "\n",
        "# Load Universal Sentence Encoder\n",
        "model_url = \"https://tfhub.dev/google/universal-sentence-encoder/4\"\n",
        "model = hub.load(model_url)\n",
        "print('Model Loaded')\n",
        "\n",
        "def embed(texts):\n",
        "    return model(texts)\n",
        "\n",
        "# Load dataset\n",
        "movies_df = pd.read_csv('data/ml-latest-small/movies.csv')\n",
        "ratings_df = pd.read_csv('data/ml-latest-small/ratings.csv')\n",
        "\n",
        "# Preprocess data\n",
        "movies_df = movies_df[[\"movieId\", \"title\", \"genres\"]].dropna().reset_index(drop=True)\n",
        "ratings_df = ratings_df[[\"userId\", \"movieId\", \"rating\"]]\n",
        "\n",
        "# Combine title and genres for embeddings\n",
        "movies_df['combined'] = movies_df['title'] + ' ' + movies_df['genres']\n",
        "combined_texts = list(movies_df['combined'])\n",
        "\n",
        "# Generate embeddings for movies\n",
        "embeddings = embed(combined_texts)\n",
        "print(\"The embedding shape is:\", embeddings.shape)\n",
        "\n",
        "# Ensure movie IDs are properly aligned\n",
        "movie_id_to_index = {movie_id: index for index, movie_id in enumerate(movies_df['movieId'])}\n",
        "\n",
        "# Split the ratings into training and testing sets\n",
        "train_df, test_df = train_test_split(ratings_df, test_size=0.2, random_state=42)\n",
        "\n",
        "# Compute user profiles\n",
        "user_profiles = {}\n",
        "for user_id in ratings_df['userId'].unique():\n",
        "    user_ratings = ratings_df[ratings_df['userId'] == user_id]\n",
        "    user_movie_indices = [movie_id_to_index.get(movie_id, -1) for movie_id in user_ratings['movieId']]\n",
        "    user_movie_indices = [index for index in user_movie_indices if index != -1]\n",
        "\n",
        "    if len(user_movie_indices) > 0:\n",
        "        user_movie_embeddings = np.array([embeddings[index].numpy() for index in user_movie_indices])\n",
        "        user_profile = np.average(user_movie_embeddings, axis=0, weights=user_ratings['rating'].values[:len(user_movie_indices)])\n",
        "        user_profiles[user_id] = user_profile\n",
        "\n",
        "# Fit Nearest Neighbours model on movie embeddings\n",
        "nn = NearestNeighbors(n_neighbors=10, metric='cosine')\n",
        "nn.fit(embeddings)\n",
        "\n",
        "def get_top_n_recommendations(user_id, n=5):\n",
        "    if user_id not in user_profiles:\n",
        "        return []\n",
        "    user_profile = user_profiles[user_id].reshape(1, -1)\n",
        "    distances, indices = nn.kneighbors(user_profile, n_neighbors=n)\n",
        "    recommended_movie_ids = movies_df.iloc[indices[0]]['movieId'].tolist()\n",
        "    return movies_df[movies_df['movieId'].isin(recommended_movie_ids)]['title'].tolist()\n",
        "\n",
        "# Example usage\n",
        "user_id = 220\n",
        "recommendations = get_top_n_recommendations(user_id)\n",
        "print(f\"Top {len(recommendations)} Recommendations for User {user_id}:\")\n",
        "for i, title in enumerate(recommendations, 1):\n",
        "    print(f\"{i}. {title}\")\n",
        "\n",
        "\n"
      ],
      "metadata": {
        "colab": {
          "base_uri": "https://localhost:8080/"
        },
        "id": "jxCJpCZblS_v",
        "outputId": "4c40af2c-d534-4908-91a6-3dde169305e6"
      },
      "execution_count": null,
      "outputs": [
        {
          "output_type": "stream",
          "name": "stdout",
          "text": [
            "  % Total    % Received % Xferd  Average Speed   Time    Time     Time  Current\n",
            "                                 Dload  Upload   Total   Spent    Left  Speed\n",
            "100  955k  100  955k    0     0  1288k      0 --:--:-- --:--:-- --:--:-- 1287k\n",
            "Model Loaded\n",
            "The embedding shape is: (9742, 512)\n",
            "Top 5 Recommendations for User 220:\n",
            "1. Bio-Dome (1996)\n",
            "2. Orgazmo (1997)\n",
            "3. Bowfinger (1999)\n",
            "4. Darkman (1990)\n",
            "5. Patlabor 2: The Movie (1993)\n"
          ]
        }
      ]
    },
    {
      "cell_type": "code",
      "source": [
        "# Evaluate Nearest Neighbours with USE Model\n",
        "test_ratings = []\n",
        "predicted_ratings = []\n",
        "\n",
        "for _, row in test_df.iterrows():\n",
        "    user_id = row['userId']\n",
        "    movie_id = row['movieId']\n",
        "\n",
        "    if user_id in user_profiles and movie_id in movie_id_to_index:\n",
        "        user_profile = user_profiles[user_id].reshape(1, -1)\n",
        "        movie_index = movie_id_to_index[movie_id]\n",
        "        movie_embedding = embeddings[movie_index].numpy().reshape(1, -1)\n",
        "        predicted_rating = cosine_similarity(user_profile, movie_embedding)[0][0] * 5  # Scale similarity to rating\n",
        "\n",
        "        test_ratings.append(row['rating'])\n",
        "        predicted_ratings.append(predicted_rating)\n",
        "\n",
        "# Calculate RMSE and MAE\n",
        "rmse_use = mean_squared_error(test_ratings, predicted_ratings, squared=False)\n",
        "mae_use = mean_absolute_error(test_ratings, predicted_ratings)\n",
        "\n",
        "# Calculate precision, recall, and F1-score\n",
        "precision_use, recall_use, f1_use, _ = precision_recall_fscore_support(\n",
        "    [1 if r >= 3.5 else 0 for r in test_ratings],\n",
        "    [1 if r >= 3.5 else 0 for r in predicted_ratings],\n",
        "    average='binary'\n",
        ")\n",
        "\n",
        "print(f\"RMSE (USE): {rmse_use}\")\n",
        "print(f\"MAE (USE): {mae_use}\")\n",
        "print(f\"Precision (USE): {precision_use}\")\n",
        "print(f\"Recall (USE): {recall_use}\")\n",
        "print(f\"F1-Score (USE): {f1_use}\")"
      ],
      "metadata": {
        "colab": {
          "base_uri": "https://localhost:8080/"
        },
        "id": "BLB7rx3ToTL4",
        "outputId": "af4af397-b583-4216-c31a-0105e091e946"
      },
      "execution_count": null,
      "outputs": [
        {
          "output_type": "stream",
          "name": "stdout",
          "text": [
            "RMSE (USE): 1.5305606045269466\n",
            "MAE (USE): 1.3102012039818995\n",
            "Precision (USE): 0.6091954022988506\n",
            "Recall (USE): 0.004295323770159657\n",
            "F1-Score (USE): 0.008530500563334945\n"
          ]
        }
      ]
    },
    {
      "cell_type": "code",
      "source": [
        "from google.colab import drive\n",
        "drive.mount('/content/drive')"
      ],
      "metadata": {
        "colab": {
          "base_uri": "https://localhost:8080/"
        },
        "id": "Oo9HzJshdz9J",
        "outputId": "5cfc10cd-ef70-4777-aa8d-22c36d29bd3c"
      },
      "execution_count": null,
      "outputs": [
        {
          "output_type": "stream",
          "name": "stdout",
          "text": [
            "Mounted at /content/drive\n"
          ]
        }
      ]
    }
  ]
}