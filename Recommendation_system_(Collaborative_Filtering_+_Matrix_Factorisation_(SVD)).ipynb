{
  "nbformat": 4,
  "nbformat_minor": 0,
  "metadata": {
    "colab": {
      "provenance": [],
      "gpuType": "T4"
    },
    "kernelspec": {
      "name": "python3",
      "display_name": "Python 3"
    },
    "language_info": {
      "name": "python"
    },
    "accelerator": "GPU"
  },
  "cells": [
    {
      "cell_type": "markdown",
      "source": [
        "# **Recommendation System: Collaborative Filtering + Matrix Factorisation & Singular Value Decomposition (SVD)**"
      ],
      "metadata": {
        "id": "P6ePCqH7auXD"
      }
    },
    {
      "cell_type": "code",
      "source": [
        "# get movielens dataset\n",
        "! curl https://files.grouplens.org/datasets/movielens/ml-latest-small.zip -o ml-latest-small.zip\n",
        "\n",
        "# Install and Import Modules\n",
        "!pip install scikit-surprise\n",
        "from surprise import Dataset, Reader\n",
        "from surprise.prediction_algorithms.matrix_factorization import SVD\n",
        "from surprise import accuracy\n",
        "import pandas as pd\n",
        "from sklearn.preprocessing import LabelEncoder, MultiLabelBinarizer\n",
        "from sklearn.model_selection import train_test_split\n",
        "\n",
        "\n",
        "\n",
        "# extract zip file\n",
        "import zipfile\n",
        "with zipfile.ZipFile(\"ml-latest-small.zip\", 'r') as zip_ref:\n",
        "  zip_ref.extractall('data')\n",
        "\n",
        "# import the dataset\n",
        "import pandas as pd\n",
        "movies_df = pd.read_csv('data/ml-latest-small/movies.csv')\n",
        "ratings_df = pd.read_csv('data/ml-latest-small/ratings.csv')\n",
        "\n",
        "# Take a look at movies_df\n",
        "movies_df.head()\n",
        "\n",
        "# Take a look at ratings_df\n",
        "ratings_df.head()\n",
        "\n",
        "# Load and process data\n",
        "df = pd.merge(ratings_df, movies_df[['movieId', 'genres']], on = 'movieId', how = 'left')\n",
        "df\n",
        "\n",
        "user_encoder = LabelEncoder()\n",
        "movie_encoder = LabelEncoder()\n",
        "mlb = MultiLabelBinarizer()\n",
        "\n",
        "df['userId'] = user_encoder.fit_transform(df['userId'])\n",
        "df['movieId'] = movie_encoder.fit_transform(df['movieId'])\n",
        "\n",
        "df = df.join(pd.DataFrame(mlb.fit_transform(df.pop('genres').str.split('|')), columns = mlb.classes_, index = df.index ))\n",
        "df.drop(columns = \"(no genres listed)\", inplace=True)\n",
        "df\n",
        "\n",
        "# build model with collaborative filtering\n",
        "train_df, test_df = train_test_split(df, test_size = 0.2)\n",
        "train_df\n",
        "\n",
        "reader = Reader(rating_scale = (0.5, 5))\n",
        "data = Dataset.load_from_df(train_df[['userId', 'movieId', 'rating']], reader)\n",
        "trainset = data.build_full_trainset()\n",
        "trainset\n",
        "\n",
        "model_svd = SVD()\n",
        "model_svd.fit(trainset)\n",
        "\n",
        "predictions_svd = model_svd.test(trainset.build_anti_testset())\n",
        "accuracy.rmse(predictions_svd)\n",
        "\n",
        "# Make Recommendations\n",
        "def get_top_n_recommendations(user_id, n=5):\n",
        "  user_movies = df[df['userId'] == user_id]['movieId'].unique()\n",
        "  all_movies = df['movieId'].unique()\n",
        "  movies_to_predict = list(set(all_movies) - set(user_movies))\n",
        "\n",
        "  user_movie_pairs = [(user_id, movie_id, 0) for movie_id in movies_to_predict]\n",
        "  predictions_cf = model_svd.test(user_movie_pairs)\n",
        "\n",
        "  top_n_recommendations = sorted(predictions_cf, key = lambda x: x.est)[:n]\n",
        "\n",
        "  for pred in top_n_recommendations:\n",
        "    predicted_rating = pred.est\n",
        "    print(predicted_rating)\n",
        "\n",
        "\n",
        "  top_n_movie_ids = [int(pred.iid) for pred in top_n_recommendations]\n",
        "\n",
        "  top_n_movies = movie_encoder.inverse_transform(top_n_movie_ids)\n",
        "\n",
        "  return top_n_movies\n",
        "\n",
        "user_id = 220\n",
        "recommendations = get_top_n_recommendations(user_id)\n",
        "top_n_movies_titles = movies_df[movies_df['movieId'].isin(recommendations)]['title'].tolist()\n",
        "print(f\"Top 5 Recommendations for User {user_id}:\")\n",
        "for i, title in enumerate(top_n_movies_titles, 1):\n",
        "  print(f\"{i}.{title}\")"
      ],
      "metadata": {
        "colab": {
          "base_uri": "https://localhost:8080/"
        },
        "id": "CKpdBPJjfLJu",
        "outputId": "1ab22c9e-4261-4d18-ac33-535b6ad6d791"
      },
      "execution_count": null,
      "outputs": [
        {
          "output_type": "stream",
          "name": "stdout",
          "text": [
            "  % Total    % Received % Xferd  Average Speed   Time    Time     Time  Current\n",
            "                                 Dload  Upload   Total   Spent    Left  Speed\n",
            "100  955k  100  955k    0     0  2394k      0 --:--:-- --:--:-- --:--:-- 2400k\n",
            "Requirement already satisfied: scikit-surprise in /usr/local/lib/python3.10/dist-packages (1.1.4)\n",
            "Requirement already satisfied: joblib>=1.2.0 in /usr/local/lib/python3.10/dist-packages (from scikit-surprise) (1.4.2)\n",
            "Requirement already satisfied: numpy>=1.19.5 in /usr/local/lib/python3.10/dist-packages (from scikit-surprise) (1.25.2)\n",
            "Requirement already satisfied: scipy>=1.6.0 in /usr/local/lib/python3.10/dist-packages (from scikit-surprise) (1.11.4)\n",
            "RMSE: 0.4787\n",
            "2.466948022249676\n",
            "2.5610694009690267\n",
            "2.562302711607097\n",
            "2.6161414961973732\n",
            "2.6675655731923094\n",
            "Top 5 Recommendations for User 220:\n",
            "1.Anaconda (1997)\n",
            "2.Speed 2: Cruise Control (1997)\n",
            "3.Batman & Robin (1997)\n",
            "4.Godzilla (1998)\n",
            "5.Honey, I Blew Up the Kid (1992)\n"
          ]
        }
      ]
    },
    {
      "cell_type": "code",
      "source": [
        "from surprise import accuracy\n",
        "from sklearn.metrics import precision_recall_fscore_support\n",
        "\n",
        "# Build test set\n",
        "testset = list(test_df[['userId', 'movieId', 'rating']].itertuples(index=False, name=None))\n",
        "\n",
        "# Predict ratings\n",
        "predictions_svd = model_svd.test(testset)\n",
        "\n",
        "# Calculate RMSE and MAE\n",
        "rmse = accuracy.rmse(predictions_svd)\n",
        "mae = accuracy.mae(predictions_svd)\n",
        "\n",
        "# Function to calculate precision, recall, and F1-score\n",
        "def calculate_precision_recall_f1(predictions, threshold=3.5):\n",
        "    y_true = [pred.r_ui for pred in predictions]\n",
        "    y_pred = [pred.est for pred in predictions]\n",
        "    y_pred_binary = [1 if pred >= threshold else 0 for pred in y_pred]\n",
        "    y_true_binary = [1 if true >= threshold else 0 for true in y_true]\n",
        "    precision, recall, f1, _ = precision_recall_fscore_support(y_true_binary, y_pred_binary, average='binary')\n",
        "    return precision, recall, f1\n",
        "\n",
        "# Calculate precision, recall, and F1-score\n",
        "precision, recall, f1 = calculate_precision_recall_f1(predictions_svd)\n",
        "\n",
        "print(f\"RMSE: {rmse}\")\n",
        "print(f\"MAE: {mae}\")\n",
        "print(f\"Precision: {precision}\")\n",
        "print(f\"Recall: {recall}\")\n",
        "print(f\"F1-Score: {f1}\")\n"
      ],
      "metadata": {
        "colab": {
          "base_uri": "https://localhost:8080/"
        },
        "id": "dckyHmNtnkKU",
        "outputId": "6af5e9f1-3551-42b1-9c62-0d92acd248ea"
      },
      "execution_count": null,
      "outputs": [
        {
          "output_type": "stream",
          "name": "stdout",
          "text": [
            "RMSE: 0.8796\n",
            "MAE:  0.6745\n",
            "RMSE: 0.8795806411254578\n",
            "MAE: 0.674516336852846\n",
            "Precision: 0.7944574917801784\n",
            "Recall: 0.6864448051948052\n",
            "F1-Score: 0.7365120836054866\n"
          ]
        }
      ]
    },
    {
      "cell_type": "code",
      "source": [
        "from google.colab import drive\n",
        "drive.mount('/content/drive')"
      ],
      "metadata": {
        "colab": {
          "base_uri": "https://localhost:8080/"
        },
        "id": "-hxcWP-xnalB",
        "outputId": "87ec67a5-7928-4b25-fa0d-c2586bee5311"
      },
      "execution_count": null,
      "outputs": [
        {
          "output_type": "stream",
          "name": "stdout",
          "text": [
            "Mounted at /content/drive\n"
          ]
        }
      ]
    },
    {
      "cell_type": "code",
      "source": [],
      "metadata": {
        "id": "BfC8UG7dhskL"
      },
      "execution_count": null,
      "outputs": []
    }
  ]
}